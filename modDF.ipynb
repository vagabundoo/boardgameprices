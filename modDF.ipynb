{
 "nbformat": 4,
 "nbformat_minor": 2,
 "metadata": {
  "language_info": {
   "name": "python",
   "codemirror_mode": {
    "name": "ipython",
    "version": 3
   },
   "version": "3.7.6-final"
  },
  "orig_nbformat": 2,
  "file_extension": ".py",
  "mimetype": "text/x-python",
  "name": "python",
  "npconvert_exporter": "python",
  "pygments_lexer": "ipython3",
  "version": 3,
  "kernelspec": {
   "name": "python37664bitc736265aa96942798be544ff59087e30",
   "display_name": "Python 3.7.6 64-bit"
  }
 },
 "cells": [
  {
   "cell_type": "code",
   "execution_count": 1,
   "metadata": {},
   "outputs": [
    {
     "data": {
      "text/html": "<div>\n<style scoped>\n    .dataframe tbody tr th:only-of-type {\n        vertical-align: middle;\n    }\n\n    .dataframe tbody tr th {\n        vertical-align: top;\n    }\n\n    .dataframe thead th {\n        text-align: right;\n    }\n</style>\n<table border=\"1\" class=\"dataframe\">\n  <thead>\n    <tr style=\"text-align: right;\">\n      <th></th>\n      <th>rank</th>\n      <th>bgg_url</th>\n      <th>game_id</th>\n      <th>names</th>\n      <th>min_players</th>\n      <th>max_players</th>\n      <th>avg_time</th>\n      <th>min_time</th>\n      <th>max_time</th>\n      <th>year</th>\n      <th>...</th>\n      <th>age</th>\n      <th>mechanic</th>\n      <th>owned</th>\n      <th>category</th>\n      <th>designer</th>\n      <th>publisher</th>\n      <th>weight</th>\n      <th>expands</th>\n      <th>reimplements</th>\n      <th>num_fans</th>\n    </tr>\n  </thead>\n  <tbody>\n    <tr>\n      <th>0</th>\n      <td>1</td>\n      <td>https://boardgamegeek.com/boardgame/174430/glo...</td>\n      <td>174430</td>\n      <td>Gloomhaven</td>\n      <td>1</td>\n      <td>4</td>\n      <td>120</td>\n      <td>60</td>\n      <td>120</td>\n      <td>2017</td>\n      <td>...</td>\n      <td>12</td>\n      <td>Campaign / Battle Card Driven, Cooperative Pla...</td>\n      <td>36778</td>\n      <td>Adventure, Exploration, Fantasy, Fighting, Min...</td>\n      <td>Isaac Childres</td>\n      <td>Cephalofair Games</td>\n      <td>3.7768</td>\n      <td>NaN</td>\n      <td>NaN</td>\n      <td>4413</td>\n    </tr>\n    <tr>\n      <th>1</th>\n      <td>2</td>\n      <td>https://boardgamegeek.com/boardgame/161936/pan...</td>\n      <td>161936</td>\n      <td>Pandemic Legacy: Season 1</td>\n      <td>2</td>\n      <td>4</td>\n      <td>60</td>\n      <td>60</td>\n      <td>60</td>\n      <td>2015</td>\n      <td>...</td>\n      <td>13</td>\n      <td>Action Point Allowance System, Cooperative Pla...</td>\n      <td>47498</td>\n      <td>Environmental, Medical</td>\n      <td>Rob Daviau, Matt Leacock</td>\n      <td>Z-Man Games, Inc.</td>\n      <td>2.8323</td>\n      <td>NaN</td>\n      <td>30549.0</td>\n      <td>2168</td>\n    </tr>\n    <tr>\n      <th>2</th>\n      <td>3</td>\n      <td>https://boardgamegeek.com/boardgame/182028/thr...</td>\n      <td>182028</td>\n      <td>Through the Ages: A New Story of Civilization</td>\n      <td>2</td>\n      <td>4</td>\n      <td>120</td>\n      <td>120</td>\n      <td>120</td>\n      <td>2015</td>\n      <td>...</td>\n      <td>14</td>\n      <td>Action Point Allowance System, Auction/Bidding...</td>\n      <td>18489</td>\n      <td>Card Game, Civilization, Economic</td>\n      <td>Vlaada Chvátil</td>\n      <td>Czech Games Edition</td>\n      <td>4.3715</td>\n      <td>NaN</td>\n      <td>25613.0</td>\n      <td>1054</td>\n    </tr>\n    <tr>\n      <th>3</th>\n      <td>4</td>\n      <td>https://boardgamegeek.com/boardgame/167791/ter...</td>\n      <td>167791</td>\n      <td>Terraforming Mars</td>\n      <td>1</td>\n      <td>5</td>\n      <td>120</td>\n      <td>120</td>\n      <td>120</td>\n      <td>2016</td>\n      <td>...</td>\n      <td>12</td>\n      <td>Card Drafting, Hand Management, Set Collection...</td>\n      <td>45204</td>\n      <td>Economic, Environmental, Industry / Manufactur...</td>\n      <td>Jacob Fryxelius</td>\n      <td>FryxGames</td>\n      <td>3.2344</td>\n      <td>NaN</td>\n      <td>NaN</td>\n      <td>2718</td>\n    </tr>\n    <tr>\n      <th>4</th>\n      <td>5</td>\n      <td>https://boardgamegeek.com/boardgame/12333/twil...</td>\n      <td>12333</td>\n      <td>Twilight Struggle</td>\n      <td>2</td>\n      <td>2</td>\n      <td>180</td>\n      <td>120</td>\n      <td>180</td>\n      <td>2005</td>\n      <td>...</td>\n      <td>13</td>\n      <td>Area Control / Area Influence, Campaign / Batt...</td>\n      <td>45955</td>\n      <td>Modern Warfare, Political, Wargame</td>\n      <td>Ananda Gupta, Jason Matthews</td>\n      <td>GMT Games</td>\n      <td>3.5627</td>\n      <td>NaN</td>\n      <td>NaN</td>\n      <td>3639</td>\n    </tr>\n  </tbody>\n</table>\n<p>5 rows × 25 columns</p>\n</div>",
      "text/plain": "   rank                                            bgg_url  game_id  \\\n0     1  https://boardgamegeek.com/boardgame/174430/glo...   174430   \n1     2  https://boardgamegeek.com/boardgame/161936/pan...   161936   \n2     3  https://boardgamegeek.com/boardgame/182028/thr...   182028   \n3     4  https://boardgamegeek.com/boardgame/167791/ter...   167791   \n4     5  https://boardgamegeek.com/boardgame/12333/twil...    12333   \n\n                                           names  min_players  max_players  \\\n0                                     Gloomhaven            1            4   \n1                      Pandemic Legacy: Season 1            2            4   \n2  Through the Ages: A New Story of Civilization            2            4   \n3                              Terraforming Mars            1            5   \n4                              Twilight Struggle            2            2   \n\n   avg_time  min_time  max_time  year  ...  age  \\\n0       120        60       120  2017  ...   12   \n1        60        60        60  2015  ...   13   \n2       120       120       120  2015  ...   14   \n3       120       120       120  2016  ...   12   \n4       180       120       180  2005  ...   13   \n\n                                            mechanic  owned  \\\n0  Campaign / Battle Card Driven, Cooperative Pla...  36778   \n1  Action Point Allowance System, Cooperative Pla...  47498   \n2  Action Point Allowance System, Auction/Bidding...  18489   \n3  Card Drafting, Hand Management, Set Collection...  45204   \n4  Area Control / Area Influence, Campaign / Batt...  45955   \n\n                                            category  \\\n0  Adventure, Exploration, Fantasy, Fighting, Min...   \n1                             Environmental, Medical   \n2                  Card Game, Civilization, Economic   \n3  Economic, Environmental, Industry / Manufactur...   \n4                 Modern Warfare, Political, Wargame   \n\n                       designer            publisher  weight  expands  \\\n0                Isaac Childres    Cephalofair Games  3.7768      NaN   \n1      Rob Daviau, Matt Leacock    Z-Man Games, Inc.  2.8323      NaN   \n2                Vlaada Chvátil  Czech Games Edition  4.3715      NaN   \n3               Jacob Fryxelius            FryxGames  3.2344      NaN   \n4  Ananda Gupta, Jason Matthews            GMT Games  3.5627      NaN   \n\n  reimplements num_fans  \n0          NaN     4413  \n1      30549.0     2168  \n2      25613.0     1054  \n3          NaN     2718  \n4          NaN     3639  \n\n[5 rows x 25 columns]"
     },
     "execution_count": 1,
     "metadata": {},
     "output_type": "execute_result"
    }
   ],
   "source": [
    "import pandas as pd\n",
    "import requests\n",
    "import os\n",
    "import statistics as stat\n",
    "import source.functions as s\n",
    "#from source.functions import \n",
    "\n",
    "df = pd.read_csv(\"input/topBGs2019\")\n",
    "df.head()"
   ]
  },
  {
   "cell_type": "code",
   "execution_count": 6,
   "metadata": {},
   "outputs": [
    {
     "name": "stdout",
     "output_type": "stream",
     "text": "Gloomhaven\nPandemic Legacy: Season 1\nThrough the Ages: A New Story of Civilization\nTerraforming Mars\nTwilight Struggle\n"
    }
   ],
   "source": [
    "# df.names[:5]\n",
    "# for e in df.names[:5]: print(e)"
   ]
  },
  {
   "cell_type": "code",
   "execution_count": 4,
   "metadata": {},
   "outputs": [
    {
     "name": "stdout",
     "output_type": "stream",
     "text": "Requesting data from https://www.boardgameatlas.com/api/search?name=Gloomhaven&client_id=qaLdCno66F&order_by=popularity&limit=1&exact=False\nRequesting data from https://www.boardgameatlas.com/api/game/prices?game_id=RLlDWHh7hR&client_id=qaLdCno66F\nRequesting data from https://www.boardgameatlas.com/api/search?name=Pandemic Legacy: Season 1&client_id=qaLdCno66F&order_by=popularity&limit=1&exact=False\nRequesting data from https://www.boardgameatlas.com/api/game/prices?game_id=mce5HZPnF5&client_id=qaLdCno66F\n[['Gloomhaven', 102.835], ['Pandemic Legacy: Season 1', 62.99]]\n"
    }
   ],
   "source": [
    "# game_price = []\n",
    "# count = 0\n",
    "# for game in df.names:\n",
    "#     if count >= 2: break\n",
    "#     game_price.append([game, s.getAvgPrice(s.getGameID(game))])\n",
    "#     count += 1\n",
    "# print(game_price)"
   ]
  },
  {
   "cell_type": "code",
   "execution_count": 0,
   "metadata": {},
   "outputs": [],
   "source": [
    "s.getGameID(\"Terraforming Mars\")"
   ]
  },
  {
   "cell_type": "code",
   "execution_count": 0,
   "metadata": {},
   "outputs": [],
   "source": [
    "s.getAvgPrice('fDn9rQjH9O')"
   ]
  },
  {
   "cell_type": "code",
   "execution_count": 14,
   "metadata": {},
   "outputs": [
    {
     "name": "stdout",
     "output_type": "stream",
     "text": "Requesting data from https://www.boardgameatlas.com/api/search?name=Gloomhaven&client_id=qaLdCno66F&order_by=popularity&limit=1&exact=False\nRequesting data from https://www.boardgameatlas.com/api/game/prices?game_id=RLlDWHh7hR&client_id=qaLdCno66F\nRequesting data from https://www.boardgameatlas.com/api/search?name=Pandemic Legacy: Season 1&client_id=qaLdCno66F&order_by=popularity&limit=1&exact=False\nRequesting data from https://www.boardgameatlas.com/api/game/prices?game_id=mce5HZPnF5&client_id=qaLdCno66F\nRequesting data from https://www.boardgameatlas.com/api/search?name=Through the Ages: A New Story of Civilization&client_id=qaLdCno66F&order_by=popularity&limit=1&exact=False\nRequesting data from https://www.boardgameatlas.com/api/game/prices?game_id=k4sSktfbuH&client_id=qaLdCno66F\nRequesting data from https://www.boardgameatlas.com/api/search?name=Terraforming Mars&client_id=qaLdCno66F&order_by=popularity&limit=1&exact=False\nRequesting data from https://www.boardgameatlas.com/api/game/prices?game_id=fDn9rQjH9O&client_id=qaLdCno66F\nRequesting data from https://www.boardgameatlas.com/api/search?name=Twilight Struggle&client_id=qaLdCno66F&order_by=popularity&limit=1&exact=False\nRequesting data from https://www.boardgameatlas.com/api/game/prices?game_id=nRGa6zZTQu&client_id=qaLdCno66F\n[['Gloomhaven', 102.835], ['Pandemic Legacy: Season 1', 62.99], ['Through the Ages: A New Story of Civilization', 50.155], ['Terraforming Mars', 47.926], ['Twilight Struggle', 46.18]]\n"
    }
   ],
   "source": [
    "# p = getGamePrices(list(df.names[:5]))\n",
    "\n",
    "# list(df.names[:3])\n",
    "# print(p)"
   ]
  },
  {
   "cell_type": "code",
   "execution_count": 2,
   "metadata": {},
   "outputs": [
    {
     "ename": "NameError",
     "evalue": "name 's' is not defined",
     "output_type": "error",
     "traceback": [
      "\u001b[0;31m---------------------------------------------------------------------------\u001b[0m",
      "\u001b[0;31mNameError\u001b[0m                                 Traceback (most recent call last)",
      "\u001b[0;32m<ipython-input-2-547f60a6db29>\u001b[0m in \u001b[0;36m<module>\u001b[0;34m\u001b[0m\n\u001b[0;32m----> 1\u001b[0;31m \u001b[0mtopgamePrices\u001b[0m \u001b[0;34m=\u001b[0m \u001b[0ms\u001b[0m\u001b[0;34m.\u001b[0m\u001b[0mgetGamePrices\u001b[0m\u001b[0;34m(\u001b[0m\u001b[0mdf\u001b[0m\u001b[0;34m.\u001b[0m\u001b[0mnames\u001b[0m\u001b[0;34m)\u001b[0m\u001b[0;34m\u001b[0m\u001b[0;34m\u001b[0m\u001b[0m\n\u001b[0m\u001b[1;32m      2\u001b[0m \u001b[0mprint\u001b[0m\u001b[0;34m(\u001b[0m\u001b[0mtopgamePrices\u001b[0m\u001b[0;34m)\u001b[0m\u001b[0;34m\u001b[0m\u001b[0;34m\u001b[0m\u001b[0m\n",
      "\u001b[0;32m~/Documents/1-projects-ironhack/project-2/boardgameprices/source/functions.py\u001b[0m in \u001b[0;36mgetGamePrices\u001b[0;34m(games)\u001b[0m\n\u001b[1;32m     48\u001b[0m     \u001b[0;32mfor\u001b[0m \u001b[0mgame\u001b[0m \u001b[0;32min\u001b[0m \u001b[0mgames\u001b[0m\u001b[0;34m:\u001b[0m\u001b[0;34m\u001b[0m\u001b[0;34m\u001b[0m\u001b[0m\n\u001b[1;32m     49\u001b[0m         \u001b[0;31m#if count >= 2: break\u001b[0m\u001b[0;34m\u001b[0m\u001b[0;34m\u001b[0m\u001b[0;34m\u001b[0m\u001b[0m\n\u001b[0;32m---> 50\u001b[0;31m         \u001b[0mgame_price\u001b[0m\u001b[0;34m.\u001b[0m\u001b[0mappend\u001b[0m\u001b[0;34m(\u001b[0m\u001b[0;34m[\u001b[0m\u001b[0mgame\u001b[0m\u001b[0;34m,\u001b[0m \u001b[0ms\u001b[0m\u001b[0;34m.\u001b[0m\u001b[0mgetAvgPrice\u001b[0m\u001b[0;34m(\u001b[0m\u001b[0ms\u001b[0m\u001b[0;34m.\u001b[0m\u001b[0mgetGameID\u001b[0m\u001b[0;34m(\u001b[0m\u001b[0mgame\u001b[0m\u001b[0;34m)\u001b[0m\u001b[0;34m)\u001b[0m\u001b[0;34m]\u001b[0m\u001b[0;34m)\u001b[0m\u001b[0;34m\u001b[0m\u001b[0;34m\u001b[0m\u001b[0m\n\u001b[0m\u001b[1;32m     51\u001b[0m     \u001b[0;32mreturn\u001b[0m \u001b[0mgame_price\u001b[0m\u001b[0;34m\u001b[0m\u001b[0;34m\u001b[0m\u001b[0m\n",
      "\u001b[0;31mNameError\u001b[0m: name 's' is not defined"
     ]
    }
   ],
   "source": [
    "topgamePrices = s.getGamePrices(df.names)\n",
    "print(topgamePrices)"
   ]
  },
  {
   "cell_type": "code",
   "execution_count": null,
   "metadata": {},
   "outputs": [],
   "source": []
  }
 ]
}