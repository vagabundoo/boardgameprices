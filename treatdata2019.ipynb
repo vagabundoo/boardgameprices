{
 "nbformat": 4,
 "nbformat_minor": 2,
 "metadata": {
  "language_info": {
   "name": "python",
   "codemirror_mode": {
    "name": "ipython",
    "version": 3
   },
   "version": "3.7.6-final"
  },
  "orig_nbformat": 2,
  "file_extension": ".py",
  "mimetype": "text/x-python",
  "name": "python",
  "npconvert_exporter": "python",
  "pygments_lexer": "ipython3",
  "version": 3,
  "kernelspec": {
   "name": "python37664bitc736265aa96942798be544ff59087e30",
   "display_name": "Python 3.7.6 64-bit"
  }
 },
 "cells": [
  {
   "cell_type": "code",
   "execution_count": 50,
   "metadata": {},
   "outputs": [],
   "source": [
    "import pandas as pd\n",
    "import requests\n",
    "import os\n",
    "import statistics as stat"
   ]
  },
  {
   "cell_type": "markdown",
   "execution_count": null,
   "metadata": {},
   "outputs": [],
   "source": [
    "We import a dataset from kaggle, with the list of the top 5000 board games on the website BoardGameGeek, ranked by user rating. The data was extracted on February 2019.  \n",
    "First we read the dataset from a csv and store it in a pandas dataframe."
   ]
  },
  {
   "cell_type": "code",
   "execution_count": 5,
   "metadata": {},
   "outputs": [
    {
     "data": {
      "text/html": "<div>\n<style scoped>\n    .dataframe tbody tr th:only-of-type {\n        vertical-align: middle;\n    }\n\n    .dataframe tbody tr th {\n        vertical-align: top;\n    }\n\n    .dataframe thead th {\n        text-align: right;\n    }\n</style>\n<table border=\"1\" class=\"dataframe\">\n  <thead>\n    <tr style=\"text-align: right;\">\n      <th></th>\n      <th>rank</th>\n      <th>bgg_url</th>\n      <th>game_id</th>\n      <th>names</th>\n      <th>min_players</th>\n      <th>max_players</th>\n      <th>avg_time</th>\n      <th>min_time</th>\n      <th>max_time</th>\n      <th>year</th>\n      <th>...</th>\n      <th>age</th>\n      <th>mechanic</th>\n      <th>owned</th>\n      <th>category</th>\n      <th>designer</th>\n      <th>publisher</th>\n      <th>weight</th>\n      <th>expands</th>\n      <th>reimplements</th>\n      <th>num_fans</th>\n    </tr>\n  </thead>\n  <tbody>\n    <tr>\n      <th>0</th>\n      <td>1</td>\n      <td>https://boardgamegeek.com/boardgame/174430/glo...</td>\n      <td>174430</td>\n      <td>Gloomhaven</td>\n      <td>1</td>\n      <td>4</td>\n      <td>120</td>\n      <td>60</td>\n      <td>120</td>\n      <td>2017</td>\n      <td>...</td>\n      <td>12</td>\n      <td>Campaign / Battle Card Driven, Cooperative Pla...</td>\n      <td>36778</td>\n      <td>Adventure, Exploration, Fantasy, Fighting, Min...</td>\n      <td>Isaac Childres</td>\n      <td>Cephalofair Games</td>\n      <td>3.7768</td>\n      <td>NaN</td>\n      <td>NaN</td>\n      <td>4413</td>\n    </tr>\n    <tr>\n      <th>1</th>\n      <td>2</td>\n      <td>https://boardgamegeek.com/boardgame/161936/pan...</td>\n      <td>161936</td>\n      <td>Pandemic Legacy: Season 1</td>\n      <td>2</td>\n      <td>4</td>\n      <td>60</td>\n      <td>60</td>\n      <td>60</td>\n      <td>2015</td>\n      <td>...</td>\n      <td>13</td>\n      <td>Action Point Allowance System, Cooperative Pla...</td>\n      <td>47498</td>\n      <td>Environmental, Medical</td>\n      <td>Rob Daviau, Matt Leacock</td>\n      <td>Z-Man Games, Inc.</td>\n      <td>2.8323</td>\n      <td>NaN</td>\n      <td>30549.0</td>\n      <td>2168</td>\n    </tr>\n    <tr>\n      <th>2</th>\n      <td>3</td>\n      <td>https://boardgamegeek.com/boardgame/182028/thr...</td>\n      <td>182028</td>\n      <td>Through the Ages: A New Story of Civilization</td>\n      <td>2</td>\n      <td>4</td>\n      <td>120</td>\n      <td>120</td>\n      <td>120</td>\n      <td>2015</td>\n      <td>...</td>\n      <td>14</td>\n      <td>Action Point Allowance System, Auction/Bidding...</td>\n      <td>18489</td>\n      <td>Card Game, Civilization, Economic</td>\n      <td>Vlaada Chvátil</td>\n      <td>Czech Games Edition</td>\n      <td>4.3715</td>\n      <td>NaN</td>\n      <td>25613.0</td>\n      <td>1054</td>\n    </tr>\n    <tr>\n      <th>3</th>\n      <td>4</td>\n      <td>https://boardgamegeek.com/boardgame/167791/ter...</td>\n      <td>167791</td>\n      <td>Terraforming Mars</td>\n      <td>1</td>\n      <td>5</td>\n      <td>120</td>\n      <td>120</td>\n      <td>120</td>\n      <td>2016</td>\n      <td>...</td>\n      <td>12</td>\n      <td>Card Drafting, Hand Management, Set Collection...</td>\n      <td>45204</td>\n      <td>Economic, Environmental, Industry / Manufactur...</td>\n      <td>Jacob Fryxelius</td>\n      <td>FryxGames</td>\n      <td>3.2344</td>\n      <td>NaN</td>\n      <td>NaN</td>\n      <td>2718</td>\n    </tr>\n    <tr>\n      <th>4</th>\n      <td>5</td>\n      <td>https://boardgamegeek.com/boardgame/12333/twil...</td>\n      <td>12333</td>\n      <td>Twilight Struggle</td>\n      <td>2</td>\n      <td>2</td>\n      <td>180</td>\n      <td>120</td>\n      <td>180</td>\n      <td>2005</td>\n      <td>...</td>\n      <td>13</td>\n      <td>Area Control / Area Influence, Campaign / Batt...</td>\n      <td>45955</td>\n      <td>Modern Warfare, Political, Wargame</td>\n      <td>Ananda Gupta, Jason Matthews</td>\n      <td>GMT Games</td>\n      <td>3.5627</td>\n      <td>NaN</td>\n      <td>NaN</td>\n      <td>3639</td>\n    </tr>\n  </tbody>\n</table>\n<p>5 rows × 25 columns</p>\n</div>",
      "text/plain": "   rank                                            bgg_url  game_id  \\\n0     1  https://boardgamegeek.com/boardgame/174430/glo...   174430   \n1     2  https://boardgamegeek.com/boardgame/161936/pan...   161936   \n2     3  https://boardgamegeek.com/boardgame/182028/thr...   182028   \n3     4  https://boardgamegeek.com/boardgame/167791/ter...   167791   \n4     5  https://boardgamegeek.com/boardgame/12333/twil...    12333   \n\n                                           names  min_players  max_players  \\\n0                                     Gloomhaven            1            4   \n1                      Pandemic Legacy: Season 1            2            4   \n2  Through the Ages: A New Story of Civilization            2            4   \n3                              Terraforming Mars            1            5   \n4                              Twilight Struggle            2            2   \n\n   avg_time  min_time  max_time  year  ...  age  \\\n0       120        60       120  2017  ...   12   \n1        60        60        60  2015  ...   13   \n2       120       120       120  2015  ...   14   \n3       120       120       120  2016  ...   12   \n4       180       120       180  2005  ...   13   \n\n                                            mechanic  owned  \\\n0  Campaign / Battle Card Driven, Cooperative Pla...  36778   \n1  Action Point Allowance System, Cooperative Pla...  47498   \n2  Action Point Allowance System, Auction/Bidding...  18489   \n3  Card Drafting, Hand Management, Set Collection...  45204   \n4  Area Control / Area Influence, Campaign / Batt...  45955   \n\n                                            category  \\\n0  Adventure, Exploration, Fantasy, Fighting, Min...   \n1                             Environmental, Medical   \n2                  Card Game, Civilization, Economic   \n3  Economic, Environmental, Industry / Manufactur...   \n4                 Modern Warfare, Political, Wargame   \n\n                       designer            publisher  weight  expands  \\\n0                Isaac Childres    Cephalofair Games  3.7768      NaN   \n1      Rob Daviau, Matt Leacock    Z-Man Games, Inc.  2.8323      NaN   \n2                Vlaada Chvátil  Czech Games Edition  4.3715      NaN   \n3               Jacob Fryxelius            FryxGames  3.2344      NaN   \n4  Ananda Gupta, Jason Matthews            GMT Games  3.5627      NaN   \n\n  reimplements num_fans  \n0          NaN     4413  \n1      30549.0     2168  \n2      25613.0     1054  \n3          NaN     2718  \n4          NaN     3639  \n\n[5 rows x 25 columns]"
     },
     "execution_count": 5,
     "metadata": {},
     "output_type": "execute_result"
    }
   ],
   "source": [
    "df = pd.read_csv(\"input/topBGs2019\")\n",
    "df.head()"
   ]
  },
  {
   "cell_type": "code",
   "execution_count": 3,
   "metadata": {},
   "outputs": [
    {
     "data": {
      "text/plain": "'Gloomhaven'"
     },
     "execution_count": 3,
     "metadata": {},
     "output_type": "execute_result"
    }
   ],
   "source": [
    "df[\"names\"][0]float(prices[0])"
   ]
  },
  {
   "cell_type": "code",
   "execution_count": 23,
   "metadata": {},
   "outputs": [],
   "source": [
    "# We set the client_id to be this one for now, which is public.\n",
    "client_id = \"qaLdCno66F\""
   ]
  },
  {
   "cell_type": "code",
   "execution_count": null,
   "metadata": {},
   "outputs": [],
   "source": []
  },
  {
   "cell_type": "code",
   "execution_count": 70,
   "metadata": {},
   "outputs": [
    {
     "data": {
      "text/plain": "'RLlDWHh7hR'"
     },
     "execution_count": 70,
     "metadata": {},
     "output_type": "execute_result"
    }
   ],
   "source": [
    "def requestAtlas(endpoint):\n",
    "       \n",
    "    baseUrl = \"https://www.boardgameatlas.com/api/\"\n",
    "    url = baseUrl+endpoint\n",
    "    print(f\"Requesting data from {url}\")\n",
    "    \n",
    "    res = requests.get(url)\n",
    "    if res.status_code != 200:\n",
    "        print(res.text)\n",
    "        raise ValueError(\"Bad Response\")\n",
    "    return res.json()\n",
    "\n",
    "#requestAtlas(\"search?name=Catan&client_id=SB1VGnDv7M\")\n",
    "#gloomhaven = requestAtlas(\"search?name=Gloomhaven&client_id=SB1VGnDv7M&exact=True&order_by=popularity&limit=1\")\n",
    "\n",
    "gloomhaven['games'][0]['id'] # This is the code to get the boardgameAtlas id that we need to get price information"
   ]
  },
  {
   "cell_type": "code",
   "execution_count": 39,
   "metadata": {},
   "outputs": [
    {
     "data": {
      "text/plain": "[{'price': '0.00',\n  'price_text': 'Out of Stock',\n  'url': 'https://www.boardgameatlas.com/api/price?client_id=W0AQGbjlZE&store=game_nerdz&id=Dpy9NjQf4V',\n  'store_name': 'Game Nerdz',\n  'updated_at': '2020-01-31T13:30:42.419Z',\n  'country': 'US'},\n {'price': '109.99',\n  'price_text': '$109.99',\n  'url': 'https://www.boardgameatlas.com/api/price?client_id=W0AQGbjlZE&store=card_haus&id=ovBuh4b83r',\n  'store_name': 'Card Haus',\n  'updated_at': '2020-01-31T13:30:39.289Z',\n  'country': 'US'}]"
     },
     "execution_count": 39,
     "metadata": {},
     "output_type": "execute_result"
    }
   ],
   "source": [
    "# Searching prices by ID\n",
    "# this is the format for the search by price: game/prices?game_id=6FmFeux5xH&client_id=qaLdCno66F\n",
    "\n",
    "gloom_id = gloomhaven['games'][0]['id']\n",
    "# gloomPrice = requestAtlas(f'game/prices?game_id={gloom_id}&client_id={client_id}')\n",
    "# print(gloomPrice)\n",
    "gloomPrice['prices']\n",
    "\n",
    "gloomPrice['prices'][5:7]"
   ]
  },
  {
   "cell_type": "code",
   "execution_count": 56,
   "metadata": {},
   "outputs": [
    {
     "data": {
      "text/plain": "102.84"
     },
     "execution_count": 56,
     "metadata": {},
     "output_type": "execute_result"
    }
   ],
   "source": [
    "prices = []\n",
    "for price in gloomPrice['prices']:\n",
    "    try:\n",
    "        if float(price['price']) > 0:\n",
    "            prices.append(float(price['price']))\n",
    "    except:\n",
    "        continue\n",
    "\n",
    "avgPrice = stat.mean(prices)\n",
    "avgPrice"
   ]
  },
  {
   "cell_type": "markdown",
   "execution_count": null,
   "metadata": {},
   "outputs": [],
   "source": [
    "## Combining into a function\n",
    "\n",
    "Now that we have prototyped our pipeline, let us make a function that gets us a game-id, and another that gets us the average price for a game when give the id."
   ]
  },
  {
   "cell_type": "code",
   "execution_count": 77,
   "metadata": {},
   "outputs": [
    {
     "name": "stdout",
     "output_type": "stream",
     "text": "Requesting data from https://www.boardgameatlas.com/api/game/prices?game_id=Qq2rPNOpoO&client_id=qaLdCno66F\n89.95\n83.98\n"
    },
    {
     "data": {
      "text/plain": "86.965"
     },
     "execution_count": 77,
     "metadata": {},
     "output_type": "execute_result"
    }
   ],
   "source": [
    "def getGameID (gamename, client_id=\"qaLdCno66F\", exact=False, limit=1):\n",
    "    # When give a gamename and a client_id, this function returns the game_id used in the API of boardgameatlas. \n",
    "    # The function returns the most popular game when searching by \n",
    "    game = requestAtlas(f'search?name={gamename}&client_id={client_id}&order_by=popularity&limit={limit}&exact={exact}')\n",
    "    return game['games'][0]['id']\n",
    "\n",
    "#id = getGameID(df.names[5]) #Works great!\n",
    "\n",
    "def getAvgPrice(gameID, client_id=\"qaLdCno66F\"):\n",
    "    prices = requestAtlas(f'game/prices?game_id={gameID}&client_id={client_id}')\n",
    "    \n",
    "    pfloats = []\n",
    "    for p in prices['prices']:\n",
    "        try:\n",
    "            if float(p['price']) > 0:\n",
    "                pfloats.append(float(p['price']))\n",
    "                print(float(p['price']))\n",
    "        except:\n",
    "            continue\n",
    "    return stat.mean(pfloats)\n",
    "\n"
   ]
  },
  {
   "cell_type": "code",
   "execution_count": null,
   "metadata": {},
   "outputs": [],
   "source": []
  }
 ]
}