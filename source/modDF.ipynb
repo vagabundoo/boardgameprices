{
 "nbformat": 4,
 "nbformat_minor": 2,
 "metadata": {
  "language_info": {
   "name": "python",
   "codemirror_mode": {
    "name": "ipython",
    "version": 3
   },
   "version": "3.7.6-final"
  },
  "orig_nbformat": 2,
  "file_extension": ".py",
  "mimetype": "text/x-python",
  "name": "python",
  "npconvert_exporter": "python",
  "pygments_lexer": "ipython3",
  "version": 3,
  "kernelspec": {
   "name": "python37664bitc736265aa96942798be544ff59087e30",
   "display_name": "Python 3.7.6 64-bit"
  }
 },
 "cells": [
  {
   "cell_type": "code",
   "execution_count": 3,
   "metadata": {},
   "outputs": [
    {
     "data": {
      "text/html": "<div>\n<style scoped>\n    .dataframe tbody tr th:only-of-type {\n        vertical-align: middle;\n    }\n\n    .dataframe tbody tr th {\n        vertical-align: top;\n    }\n\n    .dataframe thead th {\n        text-align: right;\n    }\n</style>\n<table border=\"1\" class=\"dataframe\">\n  <thead>\n    <tr style=\"text-align: right;\">\n      <th></th>\n      <th>rank</th>\n      <th>bgg_url</th>\n      <th>game_id</th>\n      <th>names</th>\n      <th>min_players</th>\n      <th>max_players</th>\n      <th>avg_time</th>\n      <th>min_time</th>\n      <th>max_time</th>\n      <th>year</th>\n      <th>...</th>\n      <th>age</th>\n      <th>mechanic</th>\n      <th>owned</th>\n      <th>category</th>\n      <th>designer</th>\n      <th>publisher</th>\n      <th>weight</th>\n      <th>expands</th>\n      <th>reimplements</th>\n      <th>num_fans</th>\n    </tr>\n  </thead>\n  <tbody>\n    <tr>\n      <th>0</th>\n      <td>1</td>\n      <td>https://boardgamegeek.com/boardgame/174430/glo...</td>\n      <td>174430</td>\n      <td>Gloomhaven</td>\n      <td>1</td>\n      <td>4</td>\n      <td>120</td>\n      <td>60</td>\n      <td>120</td>\n      <td>2017</td>\n      <td>...</td>\n      <td>12</td>\n      <td>Campaign / Battle Card Driven, Cooperative Pla...</td>\n      <td>36778</td>\n      <td>Adventure, Exploration, Fantasy, Fighting, Min...</td>\n      <td>Isaac Childres</td>\n      <td>Cephalofair Games</td>\n      <td>3.7768</td>\n      <td>NaN</td>\n      <td>NaN</td>\n      <td>4413</td>\n    </tr>\n    <tr>\n      <th>1</th>\n      <td>2</td>\n      <td>https://boardgamegeek.com/boardgame/161936/pan...</td>\n      <td>161936</td>\n      <td>Pandemic Legacy: Season 1</td>\n      <td>2</td>\n      <td>4</td>\n      <td>60</td>\n      <td>60</td>\n      <td>60</td>\n      <td>2015</td>\n      <td>...</td>\n      <td>13</td>\n      <td>Action Point Allowance System, Cooperative Pla...</td>\n      <td>47498</td>\n      <td>Environmental, Medical</td>\n      <td>Rob Daviau, Matt Leacock</td>\n      <td>Z-Man Games, Inc.</td>\n      <td>2.8323</td>\n      <td>NaN</td>\n      <td>30549.0</td>\n      <td>2168</td>\n    </tr>\n    <tr>\n      <th>2</th>\n      <td>3</td>\n      <td>https://boardgamegeek.com/boardgame/182028/thr...</td>\n      <td>182028</td>\n      <td>Through the Ages: A New Story of Civilization</td>\n      <td>2</td>\n      <td>4</td>\n      <td>120</td>\n      <td>120</td>\n      <td>120</td>\n      <td>2015</td>\n      <td>...</td>\n      <td>14</td>\n      <td>Action Point Allowance System, Auction/Bidding...</td>\n      <td>18489</td>\n      <td>Card Game, Civilization, Economic</td>\n      <td>Vlaada Chvátil</td>\n      <td>Czech Games Edition</td>\n      <td>4.3715</td>\n      <td>NaN</td>\n      <td>25613.0</td>\n      <td>1054</td>\n    </tr>\n    <tr>\n      <th>3</th>\n      <td>4</td>\n      <td>https://boardgamegeek.com/boardgame/167791/ter...</td>\n      <td>167791</td>\n      <td>Terraforming Mars</td>\n      <td>1</td>\n      <td>5</td>\n      <td>120</td>\n      <td>120</td>\n      <td>120</td>\n      <td>2016</td>\n      <td>...</td>\n      <td>12</td>\n      <td>Card Drafting, Hand Management, Set Collection...</td>\n      <td>45204</td>\n      <td>Economic, Environmental, Industry / Manufactur...</td>\n      <td>Jacob Fryxelius</td>\n      <td>FryxGames</td>\n      <td>3.2344</td>\n      <td>NaN</td>\n      <td>NaN</td>\n      <td>2718</td>\n    </tr>\n    <tr>\n      <th>4</th>\n      <td>5</td>\n      <td>https://boardgamegeek.com/boardgame/12333/twil...</td>\n      <td>12333</td>\n      <td>Twilight Struggle</td>\n      <td>2</td>\n      <td>2</td>\n      <td>180</td>\n      <td>120</td>\n      <td>180</td>\n      <td>2005</td>\n      <td>...</td>\n      <td>13</td>\n      <td>Area Control / Area Influence, Campaign / Batt...</td>\n      <td>45955</td>\n      <td>Modern Warfare, Political, Wargame</td>\n      <td>Ananda Gupta, Jason Matthews</td>\n      <td>GMT Games</td>\n      <td>3.5627</td>\n      <td>NaN</td>\n      <td>NaN</td>\n      <td>3639</td>\n    </tr>\n  </tbody>\n</table>\n<p>5 rows × 25 columns</p>\n</div>",
      "text/plain": "   rank                                            bgg_url  game_id  \\\n0     1  https://boardgamegeek.com/boardgame/174430/glo...   174430   \n1     2  https://boardgamegeek.com/boardgame/161936/pan...   161936   \n2     3  https://boardgamegeek.com/boardgame/182028/thr...   182028   \n3     4  https://boardgamegeek.com/boardgame/167791/ter...   167791   \n4     5  https://boardgamegeek.com/boardgame/12333/twil...    12333   \n\n                                           names  min_players  max_players  \\\n0                                     Gloomhaven            1            4   \n1                      Pandemic Legacy: Season 1            2            4   \n2  Through the Ages: A New Story of Civilization            2            4   \n3                              Terraforming Mars            1            5   \n4                              Twilight Struggle            2            2   \n\n   avg_time  min_time  max_time  year  ...  age  \\\n0       120        60       120  2017  ...   12   \n1        60        60        60  2015  ...   13   \n2       120       120       120  2015  ...   14   \n3       120       120       120  2016  ...   12   \n4       180       120       180  2005  ...   13   \n\n                                            mechanic  owned  \\\n0  Campaign / Battle Card Driven, Cooperative Pla...  36778   \n1  Action Point Allowance System, Cooperative Pla...  47498   \n2  Action Point Allowance System, Auction/Bidding...  18489   \n3  Card Drafting, Hand Management, Set Collection...  45204   \n4  Area Control / Area Influence, Campaign / Batt...  45955   \n\n                                            category  \\\n0  Adventure, Exploration, Fantasy, Fighting, Min...   \n1                             Environmental, Medical   \n2                  Card Game, Civilization, Economic   \n3  Economic, Environmental, Industry / Manufactur...   \n4                 Modern Warfare, Political, Wargame   \n\n                       designer            publisher  weight  expands  \\\n0                Isaac Childres    Cephalofair Games  3.7768      NaN   \n1      Rob Daviau, Matt Leacock    Z-Man Games, Inc.  2.8323      NaN   \n2                Vlaada Chvátil  Czech Games Edition  4.3715      NaN   \n3               Jacob Fryxelius            FryxGames  3.2344      NaN   \n4  Ananda Gupta, Jason Matthews            GMT Games  3.5627      NaN   \n\n  reimplements num_fans  \n0          NaN     4413  \n1      30549.0     2168  \n2      25613.0     1054  \n3          NaN     2718  \n4          NaN     3639  \n\n[5 rows x 25 columns]"
     },
     "execution_count": 3,
     "metadata": {},
     "output_type": "execute_result"
    }
   ],
   "source": [
    "import pandas as pd\n",
    "import requests\n",
    "import os\n",
    "import statistics as stat\n",
    "import functions as s\n",
    "\n",
    "df = pd.read_csv(\"../input/topBGs2019\")\n",
    "df.head()"
   ]
  },
  {
   "cell_type": "code",
   "execution_count": 2,
   "metadata": {},
   "outputs": [],
   "source": [
    "# df.names[:5]\n",
    "# for e in df.names[:5]: print(e)"
   ]
  },
  {
   "cell_type": "markdown",
   "execution_count": null,
   "metadata": {},
   "outputs": [],
   "source": [
    "## Creating function to get avgprices for a list of games\n",
    "\n",
    "Here I tested out a function that would call getAvgPrices and getGameID, in order to get the average price for a list of games, and return a new list with this data. Once tested, I moved the function to functions.py to call it."
   ]
  },
  {
   "cell_type": "code",
   "execution_count": 3,
   "metadata": {},
   "outputs": [],
   "source": [
    "# game_price = []\n",
    "# count = 0\n",
    "# for game in df.names:\n",
    "#     if count >= 2: break\n",
    "#     game_price.append([game, s.getAvgPrice(s.getGameID(game))])\n",
    "#     count += 1\n",
    "# print(game_price)"
   ]
  },
  {
   "cell_type": "code",
   "execution_count": 4,
   "metadata": {},
   "outputs": [
    {
     "name": "stdout",
     "output_type": "stream",
     "text": "Requesting data from https://www.boardgameatlas.com/api/search?name=Terraforming Mars&client_id=qaLdCno66F&order_by=popularity&limit=1&exact=False\n"
    },
    {
     "data": {
      "text/plain": "'fDn9rQjH9O'"
     },
     "execution_count": 4,
     "metadata": {},
     "output_type": "execute_result"
    }
   ],
   "source": [
    "s.getGameID(\"Terraforming Mars\")"
   ]
  },
  {
   "cell_type": "code",
   "execution_count": 5,
   "metadata": {},
   "outputs": [
    {
     "name": "stdout",
     "output_type": "stream",
     "text": "Requesting data from https://www.boardgameatlas.com/api/game/prices?game_id=fDn9rQjH9O&client_id=qaLdCno66F\n"
    },
    {
     "data": {
      "text/plain": "47.926"
     },
     "execution_count": 5,
     "metadata": {},
     "output_type": "execute_result"
    }
   ],
   "source": [
    "s.getAvgPrice('fDn9rQjH9O')"
   ]
  },
  {
   "cell_type": "code",
   "execution_count": 9,
   "metadata": {},
   "outputs": [
    {
     "data": {
      "text/plain": "0                                           Gloomhaven\n1                            Pandemic Legacy: Season 1\n2        Through the Ages: A New Story of Civilization\n3                                    Terraforming Mars\n4                                    Twilight Struggle\n5                                 Star Wars: Rebellion\n6                                               Scythe\n7                                         Gaia Project\n8                                  Great Western Trail\n9                                        Terra Mystica\n10                  Twilight Imperium (Fourth Edition)\n11                    War of the Ring (Second Edition)\n12                             The Castles of Burgundy\n13                                      7 Wonders Duel\n14                                   The 7th Continent\n15                                       Spirit Island\n16                                         Puerto Rico\n17                        Arkham Horror: The Card Game\n18                       Viticulture Essential Edition\n19                                           Concordia\n20                           Caverna: The Cave Farmers\n21                                   Brass: Birmingham\n22                                   Brass: Lancashire\n23                                            Agricola\n24                              Mage Knight Board Game\n25                 Mansions of Madness: Second Edition\n26                                             Orléans\n27                                          Blood Rage\n28                                  Food Chain Magnate\n29                                    A Feast for Odin\n30                                   Mechs vs. Minions\n31                              Kingdom Death: Monster\n32                           Pandemic Legacy: Season 2\n33                         Star Wars: Imperial Assault\n34           Through the Ages: A Story of Civilization\n35                                          Power Grid\n36                                                Azul\n37                                             Eclipse\n38                        Tzolk'in: The Mayan Calendar\n39                                            Le Havre\n40    Robinson Crusoe: Adventures on the Cursed Island\n41                           The Voyages of Marco Polo\n42                                  Android: Netrunner\n43                                  Clans of Caledonia\n44                                           7 Wonders\n45                                           Keyflower\n46                                              Caylus\n47                                 Race for the Galaxy\n48                                    Dominant Species\n49                                          Rising Sun\nName: names, dtype: object"
     },
     "execution_count": 9,
     "metadata": {},
     "output_type": "execute_result"
    }
   ],
   "source": [
    "# p = getGamePrices(list(df.names[:5]))\n",
    "\n",
    "# list(df.names[:3])\n",
    "# print(p)\n",
    "df.names[:50]"
   ]
  },
  {
   "cell_type": "code",
   "execution_count": 11,
   "metadata": {},
   "outputs": [
    {
     "name": "stdout",
     "output_type": "stream",
     "text": "Requesting data from https://www.boardgameatlas.com/api/search?name=Gloomhaven&client_id=qaLdCno66F&order_by=popularity&limit=1&exact=False\nRequesting data from https://www.boardgameatlas.com/api/game/prices?game_id=RLlDWHh7hR&client_id=qaLdCno66F\nRequesting data from https://www.boardgameatlas.com/api/search?name=Pandemic Legacy: Season 1&client_id=qaLdCno66F&order_by=popularity&limit=1&exact=False\nRequesting data from https://www.boardgameatlas.com/api/game/prices?game_id=mce5HZPnF5&client_id=qaLdCno66F\nRequesting data from https://www.boardgameatlas.com/api/search?name=Through the Ages: A New Story of Civilization&client_id=qaLdCno66F&order_by=popularity&limit=1&exact=False\nRequesting data from https://www.boardgameatlas.com/api/game/prices?game_id=k4sSktfbuH&client_id=qaLdCno66F\nRequesting data from https://www.boardgameatlas.com/api/search?name=Terraforming Mars&client_id=qaLdCno66F&order_by=popularity&limit=1&exact=False\nRequesting data from https://www.boardgameatlas.com/api/game/prices?game_id=fDn9rQjH9O&client_id=qaLdCno66F\nRequesting data from https://www.boardgameatlas.com/api/search?name=Twilight Struggle&client_id=qaLdCno66F&order_by=popularity&limit=1&exact=False\nRequesting data from https://www.boardgameatlas.com/api/game/prices?game_id=nRGa6zZTQu&client_id=qaLdCno66F\nRequesting data from https://www.boardgameatlas.com/api/search?name=Star Wars: Rebellion&client_id=qaLdCno66F&order_by=popularity&limit=1&exact=False\nRequesting data from https://www.boardgameatlas.com/api/game/prices?game_id=Qq2rPNOpoO&client_id=qaLdCno66F\nRequesting data from https://www.boardgameatlas.com/api/search?name=Scythe&client_id=qaLdCno66F&order_by=popularity&limit=1&exact=False\nRequesting data from https://www.boardgameatlas.com/api/game/prices?game_id=yqR4PtpO8X&client_id=qaLdCno66F\nRequesting data from https://www.boardgameatlas.com/api/search?name=Gaia Project&client_id=qaLdCno66F&order_by=popularity&limit=1&exact=False\nRequesting data from https://www.boardgameatlas.com/api/game/prices?game_id=yPwGVk8lB2&client_id=qaLdCno66F\nRequesting data from https://www.boardgameatlas.com/api/search?name=Great Western Trail&client_id=qaLdCno66F&order_by=popularity&limit=1&exact=False\nRequesting data from https://www.boardgameatlas.com/api/game/prices?game_id=wkBw955xS3&client_id=qaLdCno66F\nRequesting data from https://www.boardgameatlas.com/api/search?name=Terra Mystica&client_id=qaLdCno66F&order_by=popularity&limit=1&exact=False\nRequesting data from https://www.boardgameatlas.com/api/game/prices?game_id=yPwGVk8lB2&client_id=qaLdCno66F\nRequesting data from https://www.boardgameatlas.com/api/search?name=Twilight Imperium (Fourth Edition)&client_id=qaLdCno66F&order_by=popularity&limit=1&exact=False\nRequesting data from https://www.boardgameatlas.com/api/game/prices?game_id=None&client_id=qaLdCno66F\nRequesting data from https://www.boardgameatlas.com/api/search?name=War of the Ring (Second Edition)&client_id=qaLdCno66F&order_by=popularity&limit=1&exact=False\nRequesting data from https://www.boardgameatlas.com/api/game/prices?game_id=VbH6pNiGCH&client_id=qaLdCno66F\nRequesting data from https://www.boardgameatlas.com/api/search?name=The Castles of Burgundy&client_id=qaLdCno66F&order_by=popularity&limit=1&exact=False\nRequesting data from https://www.boardgameatlas.com/api/game/prices?game_id=VNBC6yq1WO&client_id=qaLdCno66F\nRequesting data from https://www.boardgameatlas.com/api/search?name=7 Wonders Duel&client_id=qaLdCno66F&order_by=popularity&limit=1&exact=False\nRequesting data from https://www.boardgameatlas.com/api/game/prices?game_id=j8LdPFmePE&client_id=qaLdCno66F\nRequesting data from https://www.boardgameatlas.com/api/search?name=The 7th Continent&client_id=qaLdCno66F&order_by=popularity&limit=1&exact=False\nRequesting data from https://www.boardgameatlas.com/api/game/prices?game_id=kDvbzBiavI&client_id=qaLdCno66F\nRequesting data from https://www.boardgameatlas.com/api/search?name=Spirit Island&client_id=qaLdCno66F&order_by=popularity&limit=1&exact=False\nRequesting data from https://www.boardgameatlas.com/api/game/prices?game_id=kPDxpJZ8PD&client_id=qaLdCno66F\nRequesting data from https://www.boardgameatlas.com/api/search?name=Puerto Rico&client_id=qaLdCno66F&order_by=popularity&limit=1&exact=False\nRequesting data from https://www.boardgameatlas.com/api/game/prices?game_id=k7pnwdyDfC&client_id=qaLdCno66F\nRequesting data from https://www.boardgameatlas.com/api/search?name=Arkham Horror: The Card Game&client_id=qaLdCno66F&order_by=popularity&limit=1&exact=False\nRequesting data from https://www.boardgameatlas.com/api/game/prices?game_id=4G32qGJZWs&client_id=qaLdCno66F\nRequesting data from https://www.boardgameatlas.com/api/search?name=Viticulture Essential Edition&client_id=qaLdCno66F&order_by=popularity&limit=1&exact=False\nRequesting data from https://www.boardgameatlas.com/api/game/prices?game_id=7NYbgH2Z2I&client_id=qaLdCno66F\nRequesting data from https://www.boardgameatlas.com/api/search?name=Concordia&client_id=qaLdCno66F&order_by=popularity&limit=1&exact=False\nRequesting data from https://www.boardgameatlas.com/api/game/prices?game_id=FCuXPSfhDR&client_id=qaLdCno66F\nRequesting data from https://www.boardgameatlas.com/api/search?name=Caverna: The Cave Farmers&client_id=qaLdCno66F&order_by=popularity&limit=1&exact=False\nRequesting data from https://www.boardgameatlas.com/api/game/prices?game_id=0DAMHQym7H&client_id=qaLdCno66F\nRequesting data from https://www.boardgameatlas.com/api/search?name=Brass: Birmingham&client_id=qaLdCno66F&order_by=popularity&limit=1&exact=False\nRequesting data from https://www.boardgameatlas.com/api/game/prices?game_id=3IPVIROfvl&client_id=qaLdCno66F\nRequesting data from https://www.boardgameatlas.com/api/search?name=Brass: Lancashire&client_id=qaLdCno66F&order_by=popularity&limit=1&exact=False\nRequesting data from https://www.boardgameatlas.com/api/game/prices?game_id=sXuOW0UGlh&client_id=qaLdCno66F\nRequesting data from https://www.boardgameatlas.com/api/search?name=Agricola&client_id=qaLdCno66F&order_by=popularity&limit=1&exact=False\nRequesting data from https://www.boardgameatlas.com/api/game/prices?game_id=M5treAlrHc&client_id=qaLdCno66F\nRequesting data from https://www.boardgameatlas.com/api/search?name=Mage Knight Board Game&client_id=qaLdCno66F&order_by=popularity&limit=1&exact=False\nRequesting data from https://www.boardgameatlas.com/api/game/prices?game_id=exdy1Z2bSC&client_id=qaLdCno66F\n"
    },
    {
     "ename": "NameError",
     "evalue": "name 'topgamePrices' is not defined",
     "output_type": "error",
     "traceback": [
      "\u001b[0;31m---------------------------------------------------------------------------\u001b[0m",
      "\u001b[0;31mNameError\u001b[0m                                 Traceback (most recent call last)",
      "\u001b[0;32m<ipython-input-11-3726b346d569>\u001b[0m in \u001b[0;36m<module>\u001b[0;34m\u001b[0m\n\u001b[1;32m      1\u001b[0m \u001b[0mtop25gamePrices\u001b[0m \u001b[0;34m=\u001b[0m \u001b[0ms\u001b[0m\u001b[0;34m.\u001b[0m\u001b[0mgetGamePrices\u001b[0m\u001b[0;34m(\u001b[0m\u001b[0mdf\u001b[0m\u001b[0;34m.\u001b[0m\u001b[0mnames\u001b[0m\u001b[0;34m[\u001b[0m\u001b[0;34m:\u001b[0m\u001b[0;36m25\u001b[0m\u001b[0;34m]\u001b[0m\u001b[0;34m)\u001b[0m\u001b[0;34m\u001b[0m\u001b[0;34m\u001b[0m\u001b[0m\n\u001b[0;32m----> 2\u001b[0;31m \u001b[0mprint\u001b[0m\u001b[0;34m(\u001b[0m\u001b[0mtopgamePrices\u001b[0m\u001b[0;34m)\u001b[0m\u001b[0;34m\u001b[0m\u001b[0;34m\u001b[0m\u001b[0m\n\u001b[0m",
      "\u001b[0;31mNameError\u001b[0m: name 'topgamePrices' is not defined"
     ]
    }
   ],
   "source": [
    "# top25gamePrices = s.getGamePrices(df.names[:25])\n",
    "#print(topgamePrices)"
   ]
  },
  {
   "cell_type": "code",
   "execution_count": 12,
   "metadata": {},
   "outputs": [
    {
     "data": {
      "text/plain": "[['Gloomhaven', 102.835],\n ['Pandemic Legacy: Season 1', 62.99],\n ['Through the Ages: A New Story of Civilization', 50.155],\n ['Terraforming Mars', 47.926],\n ['Twilight Struggle', 46.18],\n ['Star Wars: Rebellion', 86.715],\n ['Scythe', 63.5625],\n ['Gaia Project', 82.47999999999999],\n ['Great Western Trail', None],\n ['Terra Mystica', 82.47999999999999],\n ['Twilight Imperium (Fourth Edition)', None],\n ['War of the Ring (Second Edition)', 64.862],\n ['The Castles of Burgundy', 31.21],\n ['7 Wonders Duel', 25.64],\n ['The 7th Continent', 399.99],\n ['Spirit Island', 54.65],\n ['Puerto Rico', 30.113333333333333],\n ['Arkham Horror: The Card Game', 35.95666666666667],\n ['Viticulture Essential Edition', 44.7375],\n ['Concordia', 46.29],\n ['Caverna: The Cave Farmers', 73.22666666666666],\n ['Brass: Birmingham', 82.16333333333333],\n ['Brass: Lancashire', 54.99],\n ['Agricola', 48.653333333333336],\n ['Mage Knight Board Game', 58.8]]"
     },
     "execution_count": 12,
     "metadata": {},
     "output_type": "execute_result"
    }
   ],
   "source": [
    "# top25gamePrices"
   ]
  },
  {
   "cell_type": "code",
   "execution_count": 14,
   "metadata": {},
   "outputs": [
    {
     "name": "stdout",
     "output_type": "stream",
     "text": "Requesting data from https://www.boardgameatlas.com/api/search?name=Mansions of Madness: Second Edition&client_id=qaLdCno66F&order_by=popularity&limit=1&exact=False\nRequesting data from https://www.boardgameatlas.com/api/game/prices?game_id=Zspd2nNHfz&client_id=qaLdCno66F\nRequesting data from https://www.boardgameatlas.com/api/search?name=Orléans&client_id=qaLdCno66F&order_by=popularity&limit=1&exact=False\nRequesting data from https://www.boardgameatlas.com/api/game/prices?game_id=pSY1hWs5YH&client_id=qaLdCno66F\nRequesting data from https://www.boardgameatlas.com/api/search?name=Blood Rage&client_id=qaLdCno66F&order_by=popularity&limit=1&exact=False\nRequesting data from https://www.boardgameatlas.com/api/game/prices?game_id=FldbgzsTYH&client_id=qaLdCno66F\nRequesting data from https://www.boardgameatlas.com/api/search?name=Food Chain Magnate&client_id=qaLdCno66F&order_by=popularity&limit=1&exact=False\nRequesting data from https://www.boardgameatlas.com/api/game/prices?game_id=vBBhuJjFVE&client_id=qaLdCno66F\nRequesting data from https://www.boardgameatlas.com/api/search?name=A Feast for Odin&client_id=qaLdCno66F&order_by=popularity&limit=1&exact=False\nRequesting data from https://www.boardgameatlas.com/api/game/prices?game_id=ilkKd5gDhg&client_id=qaLdCno66F\nRequesting data from https://www.boardgameatlas.com/api/search?name=Mechs vs. Minions&client_id=qaLdCno66F&order_by=popularity&limit=1&exact=False\nRequesting data from https://www.boardgameatlas.com/api/game/prices?game_id=fZ8RsZxJVM&client_id=qaLdCno66F\nRequesting data from https://www.boardgameatlas.com/api/search?name=Kingdom Death: Monster&client_id=qaLdCno66F&order_by=popularity&limit=1&exact=False\nRequesting data from https://www.boardgameatlas.com/api/game/prices?game_id=J9W6vjCo0I&client_id=qaLdCno66F\nRequesting data from https://www.boardgameatlas.com/api/search?name=Pandemic Legacy: Season 2&client_id=qaLdCno66F&order_by=popularity&limit=1&exact=False\nRequesting data from https://www.boardgameatlas.com/api/game/prices?game_id=1ESn6eONfa&client_id=qaLdCno66F\nRequesting data from https://www.boardgameatlas.com/api/search?name=Star Wars: Imperial Assault&client_id=qaLdCno66F&order_by=popularity&limit=1&exact=False\nRequesting data from https://www.boardgameatlas.com/api/game/prices?game_id=inwR6DF3Lx&client_id=qaLdCno66F\nRequesting data from https://www.boardgameatlas.com/api/search?name=Through the Ages: A Story of Civilization&client_id=qaLdCno66F&order_by=popularity&limit=1&exact=False\nRequesting data from https://www.boardgameatlas.com/api/game/prices?game_id=k4sSktfbuH&client_id=qaLdCno66F\nRequesting data from https://www.boardgameatlas.com/api/search?name=Power Grid&client_id=qaLdCno66F&order_by=popularity&limit=1&exact=False\nRequesting data from https://www.boardgameatlas.com/api/game/prices?game_id=Meszt3IFfX&client_id=qaLdCno66F\nRequesting data from https://www.boardgameatlas.com/api/search?name=Azul&client_id=qaLdCno66F&order_by=popularity&limit=1&exact=False\nRequesting data from https://www.boardgameatlas.com/api/game/prices?game_id=i5Oqu5VZgP&client_id=qaLdCno66F\nRequesting data from https://www.boardgameatlas.com/api/search?name=Eclipse&client_id=qaLdCno66F&order_by=popularity&limit=1&exact=False\nRequesting data from https://www.boardgameatlas.com/api/game/prices?game_id=7o1BvaDKoO&client_id=qaLdCno66F\nRequesting data from https://www.boardgameatlas.com/api/search?name=Tzolk'in: The Mayan Calendar&client_id=qaLdCno66F&order_by=popularity&limit=1&exact=False\nRequesting data from https://www.boardgameatlas.com/api/game/prices?game_id=aD2aeY8DEP&client_id=qaLdCno66F\nRequesting data from https://www.boardgameatlas.com/api/search?name=Le Havre&client_id=qaLdCno66F&order_by=popularity&limit=1&exact=False\nRequesting data from https://www.boardgameatlas.com/api/game/prices?game_id=wU5YAJMv79&client_id=qaLdCno66F\nRequesting data from https://www.boardgameatlas.com/api/search?name=Robinson Crusoe: Adventures on the Cursed Island&client_id=qaLdCno66F&order_by=popularity&limit=1&exact=False\nRequesting data from https://www.boardgameatlas.com/api/game/prices?game_id=30ltPnwaqy&client_id=qaLdCno66F\nRequesting data from https://www.boardgameatlas.com/api/search?name=The Voyages of Marco Polo&client_id=qaLdCno66F&order_by=popularity&limit=1&exact=False\nRequesting data from https://www.boardgameatlas.com/api/game/prices?game_id=jBBIIYQmED&client_id=qaLdCno66F\nRequesting data from https://www.boardgameatlas.com/api/search?name=Android: Netrunner&client_id=qaLdCno66F&order_by=popularity&limit=1&exact=False\nRequesting data from https://www.boardgameatlas.com/api/game/prices?game_id=08q3IWC9lC&client_id=qaLdCno66F\nRequesting data from https://www.boardgameatlas.com/api/search?name=Clans of Caledonia&client_id=qaLdCno66F&order_by=popularity&limit=1&exact=False\nRequesting data from https://www.boardgameatlas.com/api/game/prices?game_id=8YoVXov23k&client_id=qaLdCno66F\nRequesting data from https://www.boardgameatlas.com/api/search?name=7 Wonders&client_id=qaLdCno66F&order_by=popularity&limit=1&exact=False\nRequesting data from https://www.boardgameatlas.com/api/game/prices?game_id=OF145SrX44&client_id=qaLdCno66F\nRequesting data from https://www.boardgameatlas.com/api/search?name=Keyflower&client_id=qaLdCno66F&order_by=popularity&limit=1&exact=False\nRequesting data from https://www.boardgameatlas.com/api/game/prices?game_id=lDg8hjuvRb&client_id=qaLdCno66F\nRequesting data from https://www.boardgameatlas.com/api/search?name=Caylus&client_id=qaLdCno66F&order_by=popularity&limit=1&exact=False\nRequesting data from https://www.boardgameatlas.com/api/game/prices?game_id=CFFV7Sik8v&client_id=qaLdCno66F\nRequesting data from https://www.boardgameatlas.com/api/search?name=Race for the Galaxy&client_id=qaLdCno66F&order_by=popularity&limit=1&exact=False\nRequesting data from https://www.boardgameatlas.com/api/game/prices?game_id=E4ELA8cG85&client_id=qaLdCno66F\nRequesting data from https://www.boardgameatlas.com/api/search?name=Dominant Species&client_id=qaLdCno66F&order_by=popularity&limit=1&exact=False\nRequesting data from https://www.boardgameatlas.com/api/game/prices?game_id=ZdHlXy4uxe&client_id=qaLdCno66F\nRequesting data from https://www.boardgameatlas.com/api/search?name=Rising Sun&client_id=qaLdCno66F&order_by=popularity&limit=1&exact=False\nRequesting data from https://www.boardgameatlas.com/api/game/prices?game_id=2eoe0273LD&client_id=qaLdCno66F\n"
    }
   ],
   "source": [
    "# top50gamePrices = s.getGamePrices(df.names[25:50])"
   ]
  },
  {
   "cell_type": "code",
   "execution_count": 15,
   "metadata": {},
   "outputs": [
    {
     "data": {
      "text/plain": "[['Mansions of Madness: Second Edition', 88.62666666666667],\n ['Orléans', 44.11],\n ['Blood Rage', 63.99],\n ['Food Chain Magnate', 98.61],\n ['A Feast for Odin', 84.67999999999999],\n ['Mechs vs. Minions', 149.98],\n ['Kingdom Death: Monster', 999.99],\n ['Pandemic Legacy: Season 2', 63.32666666666667],\n ['Star Wars: Imperial Assault', 74.98],\n ['Through the Ages: A Story of Civilization', 50.155],\n ['Power Grid', None],\n ['Azul', 29.458],\n ['Eclipse', None],\n [\"Tzolk'in: The Mayan Calendar\", 43.5925],\n ['Le Havre', 53.656666666666666],\n ['Robinson Crusoe: Adventures on the Cursed Island', 45.935],\n ['The Voyages of Marco Polo', 47.55],\n ['Android: Netrunner', None],\n ['Clans of Caledonia', 50.41],\n ['7 Wonders', 41.980000000000004],\n ['Keyflower', 49.525000000000006],\n ['Caylus', 137.62],\n ['Race for the Galaxy', 25.056666666666665],\n ['Dominant Species', 58.94],\n ['Rising Sun', 82.49]]"
     },
     "execution_count": 15,
     "metadata": {},
     "output_type": "execute_result"
    }
   ],
   "source": [
    "# top50gamePrices"
   ]
  },
  {
   "cell_type": "code",
   "execution_count": 16,
   "metadata": {},
   "outputs": [
    {
     "name": "stdout",
     "output_type": "stream",
     "text": "Requesting data from https://www.boardgameatlas.com/api/search?name=Fields of Arle&client_id=qaLdCno66F&order_by=popularity&limit=1&exact=False\nRequesting data from https://www.boardgameatlas.com/api/game/prices?game_id=LdQnSfXgUN&client_id=qaLdCno66F\nRequesting data from https://www.boardgameatlas.com/api/search?name=Twilight Imperium (Third Edition)&client_id=qaLdCno66F&order_by=popularity&limit=1&exact=False\nRequesting data from https://www.boardgameatlas.com/api/game/prices?game_id=None&client_id=qaLdCno66F\nRequesting data from https://www.boardgameatlas.com/api/search?name=Lords of Waterdeep&client_id=qaLdCno66F&order_by=popularity&limit=1&exact=False\nRequesting data from https://www.boardgameatlas.com/api/game/prices?game_id=axOr9uuOwN&client_id=qaLdCno66F\nRequesting data from https://www.boardgameatlas.com/api/search?name=Five Tribes&client_id=qaLdCno66F&order_by=popularity&limit=1&exact=False\nRequesting data from https://www.boardgameatlas.com/api/game/prices?game_id=sMTDq4Zeif&client_id=qaLdCno66F\nRequesting data from https://www.boardgameatlas.com/api/search?name=Eldritch Horror&client_id=qaLdCno66F&order_by=popularity&limit=1&exact=False\nRequesting data from https://www.boardgameatlas.com/api/game/prices?game_id=ZwlnfX1J2z&client_id=qaLdCno66F\nRequesting data from https://www.boardgameatlas.com/api/search?name=Codenames&client_id=qaLdCno66F&order_by=popularity&limit=1&exact=False\nRequesting data from https://www.boardgameatlas.com/api/game/prices?game_id=GP7Y2xOUzj&client_id=qaLdCno66F\nRequesting data from https://www.boardgameatlas.com/api/search?name=El Grande&client_id=qaLdCno66F&order_by=popularity&limit=1&exact=False\nRequesting data from https://www.boardgameatlas.com/api/game/prices?game_id=07sKc1TGJS&client_id=qaLdCno66F\nRequesting data from https://www.boardgameatlas.com/api/search?name=Anachrony&client_id=qaLdCno66F&order_by=popularity&limit=1&exact=False\nRequesting data from https://www.boardgameatlas.com/api/game/prices?game_id=mFWYqQTYl4&client_id=qaLdCno66F\nRequesting data from https://www.boardgameatlas.com/api/search?name=Dominion: Intrigue&client_id=qaLdCno66F&order_by=popularity&limit=1&exact=False\nRequesting data from https://www.boardgameatlas.com/api/game/prices?game_id=CqiwZu3GIp&client_id=qaLdCno66F\nRequesting data from https://www.boardgameatlas.com/api/search?name=Clank!: A Deck-Building Adventure&client_id=qaLdCno66F&order_by=popularity&limit=1&exact=False\nRequesting data from https://www.boardgameatlas.com/api/game/prices?game_id=07FXm6tX4o&client_id=qaLdCno66F\nRequesting data from https://www.boardgameatlas.com/api/search?name=Patchwork&client_id=qaLdCno66F&order_by=popularity&limit=1&exact=False\nRequesting data from https://www.boardgameatlas.com/api/game/prices?game_id=9iBOPn3lES&client_id=qaLdCno66F\nRequesting data from https://www.boardgameatlas.com/api/search?name=The Gallerist&client_id=qaLdCno66F&order_by=popularity&limit=1&exact=False\nRequesting data from https://www.boardgameatlas.com/api/game/prices?game_id=X3vSnCymnX&client_id=qaLdCno66F\nRequesting data from https://www.boardgameatlas.com/api/search?name=Mombasa&client_id=qaLdCno66F&order_by=popularity&limit=1&exact=False\nRequesting data from https://www.boardgameatlas.com/api/game/prices?game_id=eQvC7etpPV&client_id=qaLdCno66F\nRequesting data from https://www.boardgameatlas.com/api/search?name=T.I.M.E Stories&client_id=qaLdCno66F&order_by=popularity&limit=1&exact=False\nRequesting data from https://www.boardgameatlas.com/api/game/prices?game_id=a1DnNmZRpb&client_id=qaLdCno66F\nRequesting data from https://www.boardgameatlas.com/api/search?name=Battlestar Galactica: The Board Game&client_id=qaLdCno66F&order_by=popularity&limit=1&exact=False\nRequesting data from https://www.boardgameatlas.com/api/game/prices?game_id=YIBcOZqGkI&client_id=qaLdCno66F\nRequesting data from https://www.boardgameatlas.com/api/search?name=Roll for the Galaxy&client_id=qaLdCno66F&order_by=popularity&limit=1&exact=False\nRequesting data from https://www.boardgameatlas.com/api/game/prices?game_id=1sQP1kNHja&client_id=qaLdCno66F\nRequesting data from https://www.boardgameatlas.com/api/search?name=Troyes&client_id=qaLdCno66F&order_by=popularity&limit=1&exact=False\nRequesting data from https://www.boardgameatlas.com/api/game/prices?game_id=LDM4TpseTi&client_id=qaLdCno66F\nRequesting data from https://www.boardgameatlas.com/api/search?name=Sherlock Holmes Consulting Detective: The Thames Murders & Other Cases&client_id=qaLdCno66F&order_by=popularity&limit=1&exact=False\nRequesting data from https://www.boardgameatlas.com/api/game/prices?game_id=9jIoFUKWmh&client_id=qaLdCno66F\nRequesting data from https://www.boardgameatlas.com/api/search?name=Russian Railroads&client_id=qaLdCno66F&order_by=popularity&limit=1&exact=False\nRequesting data from https://www.boardgameatlas.com/api/game/prices?game_id=dJz5fFkFEd&client_id=qaLdCno66F\nRequesting data from https://www.boardgameatlas.com/api/search?name=Tigris & Euphrates&client_id=qaLdCno66F&order_by=popularity&limit=1&exact=False\nRequesting data from https://www.boardgameatlas.com/api/game/prices?game_id=zNDNB2oGkS&client_id=qaLdCno66F\nRequesting data from https://www.boardgameatlas.com/api/search?name=Star Wars: X-Wing Miniatures Game&client_id=qaLdCno66F&order_by=popularity&limit=1&exact=False\nRequesting data from https://www.boardgameatlas.com/api/game/prices?game_id=emI6SsaaZD&client_id=qaLdCno66F\nRequesting data from https://www.boardgameatlas.com/api/search?name=Trajan&client_id=qaLdCno66F&order_by=popularity&limit=1&exact=False\nRequesting data from https://www.boardgameatlas.com/api/game/prices?game_id=z2GeV6FSRZ&client_id=qaLdCno66F\nRequesting data from https://www.boardgameatlas.com/api/search?name=Dead of Winter: A Crossroads Game&client_id=qaLdCno66F&order_by=popularity&limit=1&exact=False\nRequesting data from https://www.boardgameatlas.com/api/game/prices?game_id=y56td93iXw&client_id=qaLdCno66F\nRequesting data from https://www.boardgameatlas.com/api/search?name=Pandemic&client_id=qaLdCno66F&order_by=popularity&limit=1&exact=False\nRequesting data from https://www.boardgameatlas.com/api/game/prices?game_id=6FmFeux5xH&client_id=qaLdCno66F\nRequesting data from https://www.boardgameatlas.com/api/search?name=Dominion&client_id=qaLdCno66F&order_by=popularity&limit=1&exact=False\nRequesting data from https://www.boardgameatlas.com/api/game/prices?game_id=6VQXkkC5ql&client_id=qaLdCno66F\n"
    }
   ],
   "source": [
    "# top75gamePrices = s.getGamePrices(df.names[50:75])"
   ]
  },
  {
   "cell_type": "code",
   "execution_count": 17,
   "metadata": {},
   "outputs": [
    {
     "name": "stdout",
     "output_type": "stream",
     "text": "Requesting data from https://www.boardgameatlas.com/api/search?name=Kemet&client_id=qaLdCno66F&order_by=popularity&limit=1&exact=False\nRequesting data from https://www.boardgameatlas.com/api/game/prices?game_id=NYMPJIwU5Y&client_id=qaLdCno66F\nRequesting data from https://www.boardgameatlas.com/api/search?name=Crokinole&client_id=qaLdCno66F&order_by=popularity&limit=1&exact=False\nRequesting data from https://www.boardgameatlas.com/api/game/prices?game_id=PgBxjxQtVL&client_id=qaLdCno66F\nRequesting data from https://www.boardgameatlas.com/api/search?name=Pandemic: Iberia&client_id=qaLdCno66F&order_by=popularity&limit=1&exact=False\nRequesting data from https://www.boardgameatlas.com/api/game/prices?game_id=jPKgqDSmKv&client_id=qaLdCno66F\nRequesting data from https://www.boardgameatlas.com/api/search?name=Root&client_id=qaLdCno66F&order_by=popularity&limit=1&exact=False\nRequesting data from https://www.boardgameatlas.com/api/game/prices?game_id=TAAifFP590&client_id=qaLdCno66F\nRequesting data from https://www.boardgameatlas.com/api/search?name=Lisboa&client_id=qaLdCno66F&order_by=popularity&limit=1&exact=False\nRequesting data from https://www.boardgameatlas.com/api/game/prices?game_id=f895NWgAcx&client_id=qaLdCno66F\nRequesting data from https://www.boardgameatlas.com/api/search?name=Descent: Journeys in the Dark (Second Edition)&client_id=qaLdCno66F&order_by=popularity&limit=1&exact=False\nRequesting data from https://www.boardgameatlas.com/api/game/prices?game_id=k1mYQIlWur&client_id=qaLdCno66F\nRequesting data from https://www.boardgameatlas.com/api/search?name=Stone Age&client_id=qaLdCno66F&order_by=popularity&limit=1&exact=False\nRequesting data from https://www.boardgameatlas.com/api/game/prices?game_id=BUDJJb08Uj&client_id=qaLdCno66F\nRequesting data from https://www.boardgameatlas.com/api/search?name=Forbidden Stars&client_id=qaLdCno66F&order_by=popularity&limit=1&exact=False\nRequesting data from https://www.boardgameatlas.com/api/game/prices?game_id=hR5nHkCzr5&client_id=qaLdCno66F\nRequesting data from https://www.boardgameatlas.com/api/search?name=Alchemists&client_id=qaLdCno66F&order_by=popularity&limit=1&exact=False\nRequesting data from https://www.boardgameatlas.com/api/game/prices?game_id=WyCNVFqDN2&client_id=qaLdCno66F\nRequesting data from https://www.boardgameatlas.com/api/search?name=Santorini&client_id=qaLdCno66F&order_by=popularity&limit=1&exact=False\nRequesting data from https://www.boardgameatlas.com/api/game/prices?game_id=VibNUMwsqr&client_id=qaLdCno66F\nRequesting data from https://www.boardgameatlas.com/api/search?name=War of the Ring (First Edition)&client_id=qaLdCno66F&order_by=popularity&limit=1&exact=False\nRequesting data from https://www.boardgameatlas.com/api/game/prices?game_id=ZgDY1krVn7&client_id=qaLdCno66F\nRequesting data from https://www.boardgameatlas.com/api/search?name=Legendary Encounters: An Alien Deck Building Game&client_id=qaLdCno66F&order_by=popularity&limit=1&exact=False\nRequesting data from https://www.boardgameatlas.com/api/game/prices?game_id=xEGxRKUT6n&client_id=qaLdCno66F\nRequesting data from https://www.boardgameatlas.com/api/search?name=Star Realms&client_id=qaLdCno66F&order_by=popularity&limit=1&exact=False\nRequesting data from https://www.boardgameatlas.com/api/game/prices?game_id=1dWE5BIcOm&client_id=qaLdCno66F\nRequesting data from https://www.boardgameatlas.com/api/search?name=Castles of Mad King Ludwig&client_id=qaLdCno66F&order_by=popularity&limit=1&exact=False\nRequesting data from https://www.boardgameatlas.com/api/game/prices?game_id=RvQRrz0gEL&client_id=qaLdCno66F\nRequesting data from https://www.boardgameatlas.com/api/search?name=Agricola (Revised Edition)&client_id=qaLdCno66F&order_by=popularity&limit=1&exact=False\nRequesting data from https://www.boardgameatlas.com/api/game/prices?game_id=M5treAlrHc&client_id=qaLdCno66F\nRequesting data from https://www.boardgameatlas.com/api/search?name=Yokohama&client_id=qaLdCno66F&order_by=popularity&limit=1&exact=False\nRequesting data from https://www.boardgameatlas.com/api/game/prices?game_id=Kq0AaGiDkx&client_id=qaLdCno66F\nRequesting data from https://www.boardgameatlas.com/api/search?name=A Game of Thrones: The Board Game (Second Edition)&client_id=qaLdCno66F&order_by=popularity&limit=1&exact=False\nRequesting data from https://www.boardgameatlas.com/api/game/prices?game_id=LZM8VP9UpT&client_id=qaLdCno66F\nRequesting data from https://www.boardgameatlas.com/api/search?name=Istanbul&client_id=qaLdCno66F&order_by=popularity&limit=1&exact=False\nRequesting data from https://www.boardgameatlas.com/api/game/prices?game_id=b1nBQaNdH6&client_id=qaLdCno66F\nRequesting data from https://www.boardgameatlas.com/api/search?name=Raiders of the North Sea&client_id=qaLdCno66F&order_by=popularity&limit=1&exact=False\nRequesting data from https://www.boardgameatlas.com/api/game/prices?game_id=3tAwjRDw8q&client_id=qaLdCno66F\nRequesting data from https://www.boardgameatlas.com/api/search?name=The Resistance: Avalon&client_id=qaLdCno66F&order_by=popularity&limit=1&exact=False\nRequesting data from https://www.boardgameatlas.com/api/game/prices?game_id=unQAllLRup&client_id=qaLdCno66F\nRequesting data from https://www.boardgameatlas.com/api/search?name=Champions of Midgard&client_id=qaLdCno66F&order_by=popularity&limit=1&exact=False\nRequesting data from https://www.boardgameatlas.com/api/game/prices?game_id=zBikUpC51l&client_id=qaLdCno66F\nRequesting data from https://www.boardgameatlas.com/api/search?name=Ticket to Ride: Europe&client_id=qaLdCno66F&order_by=popularity&limit=1&exact=False\nRequesting data from https://www.boardgameatlas.com/api/game/prices?game_id=GJ94Cl7cz5&client_id=qaLdCno66F\nRequesting data from https://www.boardgameatlas.com/api/search?name=Ora et Labora&client_id=qaLdCno66F&order_by=popularity&limit=1&exact=False\nRequesting data from https://www.boardgameatlas.com/api/game/prices?game_id=NbD7rJP2qz&client_id=qaLdCno66F\nRequesting data from https://www.boardgameatlas.com/api/search?name=Grand Austria Hotel&client_id=qaLdCno66F&order_by=popularity&limit=1&exact=False\nRequesting data from https://www.boardgameatlas.com/api/game/prices?game_id=61HxLWWocX&client_id=qaLdCno66F\nRequesting data from https://www.boardgameatlas.com/api/search?name=Chaos in the Old World&client_id=qaLdCno66F&order_by=popularity&limit=1&exact=False\nRequesting data from https://www.boardgameatlas.com/api/game/prices?game_id=fQ1CmHsY5p&client_id=qaLdCno66F\nRequesting data from https://www.boardgameatlas.com/api/search?name=Arcadia Quest&client_id=qaLdCno66F&order_by=popularity&limit=1&exact=False\nRequesting data from https://www.boardgameatlas.com/api/game/prices?game_id=nxHqHmDDt1&client_id=qaLdCno66F\n"
    }
   ],
   "source": [
    "# top100gamePrices = s.getGamePrices(df.names[75:101])"
   ]
  },
  {
   "cell_type": "code",
   "execution_count": 20,
   "metadata": {},
   "outputs": [
    {
     "data": {
      "text/plain": "[['Gloomhaven', 102.835],\n ['Pandemic Legacy: Season 1', 62.99],\n ['Through the Ages: A New Story of Civilization', 50.155],\n ['Terraforming Mars', 47.926],\n ['Twilight Struggle', 46.18],\n ['Star Wars: Rebellion', 86.715],\n ['Scythe', 63.5625],\n ['Gaia Project', 82.47999999999999],\n ['Great Western Trail', None],\n ['Terra Mystica', 82.47999999999999],\n ['Twilight Imperium (Fourth Edition)', None],\n ['War of the Ring (Second Edition)', 64.862],\n ['The Castles of Burgundy', 31.21],\n ['7 Wonders Duel', 25.64],\n ['The 7th Continent', 399.99],\n ['Spirit Island', 54.65],\n ['Puerto Rico', 30.113333333333333],\n ['Arkham Horror: The Card Game', 35.95666666666667],\n ['Viticulture Essential Edition', 44.7375],\n ['Concordia', 46.29],\n ['Caverna: The Cave Farmers', 73.22666666666666],\n ['Brass: Birmingham', 82.16333333333333],\n ['Brass: Lancashire', 54.99],\n ['Agricola', 48.653333333333336],\n ['Mage Knight Board Game', 58.8],\n ['Mansions of Madness: Second Edition', 88.62666666666667],\n ['Orléans', 44.11],\n ['Blood Rage', 63.99],\n ['Food Chain Magnate', 98.61],\n ['A Feast for Odin', 84.67999999999999],\n ['Mechs vs. Minions', 149.98],\n ['Kingdom Death: Monster', 999.99],\n ['Pandemic Legacy: Season 2', 63.32666666666667],\n ['Star Wars: Imperial Assault', 74.98],\n ['Through the Ages: A Story of Civilization', 50.155],\n ['Power Grid', None],\n ['Azul', 29.458],\n ['Eclipse', None],\n [\"Tzolk'in: The Mayan Calendar\", 43.5925],\n ['Le Havre', 53.656666666666666],\n ['Robinson Crusoe: Adventures on the Cursed Island', 45.935],\n ['The Voyages of Marco Polo', 47.55],\n ['Android: Netrunner', None],\n ['Clans of Caledonia', 50.41],\n ['7 Wonders', 41.980000000000004],\n ['Keyflower', 49.525000000000006],\n ['Caylus', 137.62],\n ['Race for the Galaxy', 25.056666666666665],\n ['Dominant Species', 58.94],\n ['Rising Sun', 82.49],\n ['Fields of Arle', 63.99],\n ['Twilight Imperium (Third Edition)', None],\n ['Lords of Waterdeep', 37.167500000000004],\n ['Five Tribes', 46.99],\n ['Eldritch Horror', 50.4675],\n ['Codenames', 15.346],\n ['El Grande', None],\n ['Anachrony', None],\n ['Dominion: Intrigue', 27.8675],\n ['Clank!: A Deck-Building Adventure', 42.985],\n ['Patchwork', 25.485],\n ['The Gallerist', 129.99],\n ['Mombasa', 49.465],\n ['T.I.M.E Stories', 49.6475],\n ['Battlestar Galactica: The Board Game', None],\n ['Roll for the Galaxy', 41.676],\n ['Troyes', 49.99],\n ['Sherlock Holmes Consulting Detective: The Thames Murders & Other Cases',\n  39.99],\n ['Russian Railroads', 148.02],\n ['Tigris & Euphrates', None],\n ['Star Wars: X-Wing Miniatures Game', 18.92],\n ['Trajan', 45.983333333333334],\n ['Dead of Winter: A Crossroads Game', 49.96],\n ['Pandemic', 59.489999999999995],\n ['Dominion', 39.83],\n ['Kemet', 54.292500000000004],\n ['Crokinole', None],\n ['Pandemic: Iberia', None],\n ['Root', 74.72],\n ['Lisboa', 117.95],\n ['Descent: Journeys in the Dark (Second Edition)', 62.45],\n ['Stone Age', 41.8725],\n ['Forbidden Stars', 86.0],\n ['Alchemists', 43.665],\n ['Santorini', 24.485],\n ['War of the Ring (First Edition)', None],\n ['Legendary Encounters: An Alien Deck Building Game', 32.346666666666664],\n ['Star Realms', 11.79],\n ['Castles of Mad King Ludwig', 41.498000000000005],\n ['Agricola (Revised Edition)', 48.653333333333336],\n ['Yokohama', 42.75333333333333],\n ['A Game of Thrones: The Board Game (Second Edition)', 43.303333333333335],\n ['Istanbul', 33.79666666666667],\n ['Raiders of the North Sea', 37.3025],\n ['The Resistance: Avalon', 14.855],\n ['Champions of Midgard', 43.47],\n ['Ticket to Ride: Europe', 40.49],\n ['Ora et Labora', 92.99000000000001],\n ['Grand Austria Hotel', 47.99],\n ['Chaos in the Old World', 269.95],\n ['Arcadia Quest', 72.47]]"
     },
     "execution_count": 20,
     "metadata": {},
     "output_type": "execute_result"
    }
   ],
   "source": [
    "# completeList = [*top25gamePrices, *top50gamePrices, *top75gamePrices, *top100gamePrices]\n",
    "# completeList"
   ]
  },
  {
   "cell_type": "code",
   "execution_count": 39,
   "metadata": {},
   "outputs": [
    {
     "data": {
      "text/plain": "pandas.core.frame.DataFrame"
     },
     "execution_count": 39,
     "metadata": {},
     "output_type": "execute_result"
    }
   ],
   "source": [
    "top100wprice = pd.DataFrame(completeList, columns = ['names','avgpriceUSD'])\n",
    "type(top100wprice)"
   ]
  },
  {
   "cell_type": "code",
   "execution_count": 36,
   "metadata": {},
   "outputs": [],
   "source": [
    "dfwprice = df.merge(right = top100wprice, on = 'names', how = 'left')"
   ]
  },
  {
   "cell_type": "code",
   "execution_count": 4,
   "metadata": {},
   "outputs": [
    {
     "ename": "NameError",
     "evalue": "name 'dfwprice' is not defined",
     "output_type": "error",
     "traceback": [
      "\u001b[0;31m---------------------------------------------------------------------------\u001b[0m",
      "\u001b[0;31mNameError\u001b[0m                                 Traceback (most recent call last)",
      "\u001b[0;32m<ipython-input-4-bfca61fadc7f>\u001b[0m in \u001b[0;36m<module>\u001b[0;34m\u001b[0m\n\u001b[0;32m----> 1\u001b[0;31m \u001b[0mdisplay\u001b[0m\u001b[0;34m(\u001b[0m\u001b[0mdfwprice\u001b[0m\u001b[0;34m.\u001b[0m\u001b[0mhead\u001b[0m\u001b[0;34m(\u001b[0m\u001b[0;36m100\u001b[0m\u001b[0;34m)\u001b[0m\u001b[0;34m)\u001b[0m\u001b[0;34m\u001b[0m\u001b[0;34m\u001b[0m\u001b[0m\n\u001b[0m",
      "\u001b[0;31mNameError\u001b[0m: name 'dfwprice' is not defined"
     ]
    }
   ],
   "source": [
    "display(dfwprice.head(100)"
   ]
  },
  {
   "cell_type": "markdown",
   "execution_count": null,
   "metadata": {},
   "outputs": [],
   "source": [
    "## Saving our data\n",
    "\n",
    "Now that we have run the query against the API, let us make sure we save the data so that we do not have to run it again. We can instead work from an exported csv, and add the prices of the top 100 board games to our dataframe."
   ]
  },
  {
   "cell_type": "code",
   "execution_count": 42,
   "metadata": {},
   "outputs": [],
   "source": [
    "import csv\n",
    "with open(\"output/top100price.csv\", \"w\", newline=\"\") as f:\n",
    "    writer = csv.writer(f)\n",
    "    writer.writerows(completeList)"
   ]
  },
  {
   "cell_type": "code",
   "execution_count": null,
   "metadata": {},
   "outputs": [],
   "source": []
  }
 ]
}